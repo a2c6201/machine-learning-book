{
 "cells": [
  {
   "attachments": {},
   "cell_type": "markdown",
   "metadata": {},
   "source": [
    "## LeNetを使ってCIFCIFAR-10データセットを使って分類してみて\n",
    "チャネルを使わないといけない\n",
    "\n",
    "https://rightcode.co.jp/blog/information-technology/pytorch-cifar-10-cnn-learning\n",
    "\n",
    "convの書き方がテキストと違う\n",
    "\n",
    "rgbなのでチャネルが３つある\n",
    "\n",
    "なるべくテキストのコードを書き換えながらやってください"
   ]
  },
  {
   "attachments": {},
   "cell_type": "markdown",
   "metadata": {},
   "source": [
    "### CIFERー10を読み込む"
   ]
  },
  {
   "cell_type": "code",
   "execution_count": 3,
   "metadata": {},
   "outputs": [
    {
     "name": "stdout",
     "output_type": "stream",
     "text": [
      "Downloading https://www.cs.toronto.edu/~kriz/cifar-10-python.tar.gz to ./cifar-10-python.tar.gz\n"
     ]
    },
    {
     "name": "stderr",
     "output_type": "stream",
     "text": [
      "100.0%\n"
     ]
    },
    {
     "name": "stdout",
     "output_type": "stream",
     "text": [
      "Extracting ./cifar-10-python.tar.gz to ./\n"
     ]
    }
   ],
   "source": [
    "import torch\n",
    "import torchvision\n",
    "from torchvision import transforms\n",
    "import torchvision.datasets as datasets\n",
    "from torch.utils.data import DataLoader\n",
    "\n",
    "image_path = './'\n",
    "transform = transforms.Compose([transforms.ToTensor()])\n",
    "\n",
    "# mnist_dataset = torchvision.datasets.MNIST(root=image_path, train=True, transform=transform, download=True)\n",
    "\n",
    "cifer_10_dataset = DataLoader(datasets.CIFAR10(root=image_path, train=True,\n",
    "                                transform=transforms, download=True))\n",
    "\n",
    "from torch.utils.data import Subset\n",
    "\n",
    "cifer_10_valid_dataset = Subset(cifer_10_dataset, torch.arange(10000))\n",
    "cifer_10_train_dataset = Subset(cifer_10_dataset, torch.arange(10000, len(cifer_10_dataset)))\n",
    "cifer_10_test_dataset = DataLoader(datasets.CIFAR10(root=image_path,\n",
    "                                                    train=False,\n",
    "                                                    transform=transform,\n",
    "                                                    download=False))"
   ]
  }
 ],
 "metadata": {
  "kernelspec": {
   "display_name": "torch",
   "language": "python",
   "name": "python3"
  },
  "language_info": {
   "codemirror_mode": {
    "name": "ipython",
    "version": 3
   },
   "file_extension": ".py",
   "mimetype": "text/x-python",
   "name": "python",
   "nbconvert_exporter": "python",
   "pygments_lexer": "ipython3",
   "version": "3.9.16"
  },
  "orig_nbformat": 4
 },
 "nbformat": 4,
 "nbformat_minor": 2
}
